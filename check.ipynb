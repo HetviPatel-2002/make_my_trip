{
 "cells": [
  {
   "cell_type": "markdown",
   "metadata": {},
   "source": [
    "### Libraries :"
   ]
  },
  {
   "cell_type": "code",
   "execution_count": 1,
   "metadata": {},
   "outputs": [],
   "source": [
    "import pandas as pd"
   ]
  },
  {
   "cell_type": "markdown",
   "metadata": {},
   "source": [
    "##### Data Fetch and idea"
   ]
  },
  {
   "cell_type": "code",
   "execution_count": 2,
   "metadata": {},
   "outputs": [],
   "source": [
    "\n",
    "flights_df=pd.read_csv(\"D:\\\\Flask_tutorial\\\\mytrip\\\\flight_data_BOM_BLR.csv\")"
   ]
  },
  {
   "cell_type": "code",
   "execution_count": 3,
   "metadata": {},
   "outputs": [
    {
     "data": {
      "text/html": [
       "<div>\n",
       "<style scoped>\n",
       "    .dataframe tbody tr th:only-of-type {\n",
       "        vertical-align: middle;\n",
       "    }\n",
       "\n",
       "    .dataframe tbody tr th {\n",
       "        vertical-align: top;\n",
       "    }\n",
       "\n",
       "    .dataframe thead th {\n",
       "        text-align: right;\n",
       "    }\n",
       "</style>\n",
       "<table border=\"1\" class=\"dataframe\">\n",
       "  <thead>\n",
       "    <tr style=\"text-align: right;\">\n",
       "      <th></th>\n",
       "      <th>FlightName</th>\n",
       "      <th>FlightCode</th>\n",
       "      <th>DepartingTime</th>\n",
       "      <th>ArrivingTime</th>\n",
       "      <th>Duration</th>\n",
       "      <th>Price</th>\n",
       "      <th>DepartingCity</th>\n",
       "      <th>ArrivingCity</th>\n",
       "    </tr>\n",
       "  </thead>\n",
       "  <tbody>\n",
       "    <tr>\n",
       "      <th>0</th>\n",
       "      <td>Air India</td>\n",
       "      <td>AI 621</td>\n",
       "      <td>3:55</td>\n",
       "      <td>5:50</td>\n",
       "      <td>01 h 55 m</td>\n",
       "      <td>2,307</td>\n",
       "      <td>Mumbai</td>\n",
       "      <td>Delhi</td>\n",
       "    </tr>\n",
       "    <tr>\n",
       "      <th>1</th>\n",
       "      <td>AirAsia</td>\n",
       "      <td>I5 670</td>\n",
       "      <td>19:55</td>\n",
       "      <td>21:45</td>\n",
       "      <td>01 h 50 m</td>\n",
       "      <td>2,773</td>\n",
       "      <td>Delhi</td>\n",
       "      <td>Bangalore</td>\n",
       "    </tr>\n",
       "    <tr>\n",
       "      <th>2</th>\n",
       "      <td>AirAsia</td>\n",
       "      <td>I5 2992</td>\n",
       "      <td>23:55</td>\n",
       "      <td>1:45</td>\n",
       "      <td>01 h 50 m</td>\n",
       "      <td>2,773</td>\n",
       "      <td>Bangalore</td>\n",
       "      <td>Kolkata</td>\n",
       "    </tr>\n",
       "    <tr>\n",
       "      <th>3</th>\n",
       "      <td>IndiGo</td>\n",
       "      <td>6E 5388</td>\n",
       "      <td>21:30</td>\n",
       "      <td>23:15</td>\n",
       "      <td>01 h 45 m</td>\n",
       "      <td>2,839</td>\n",
       "      <td>Chennai</td>\n",
       "      <td>Hyderabad</td>\n",
       "    </tr>\n",
       "    <tr>\n",
       "      <th>4</th>\n",
       "      <td>Akasa Air</td>\n",
       "      <td>QP 1103</td>\n",
       "      <td>0:45</td>\n",
       "      <td>2:20</td>\n",
       "      <td>01 h 35 m</td>\n",
       "      <td>3,005</td>\n",
       "      <td>Hyderabad</td>\n",
       "      <td>Pune</td>\n",
       "    </tr>\n",
       "  </tbody>\n",
       "</table>\n",
       "</div>"
      ],
      "text/plain": [
       "  FlightName FlightCode DepartingTime ArrivingTime   Duration  Price  \\\n",
       "0  Air India     AI 621          3:55         5:50  01 h 55 m  2,307   \n",
       "1    AirAsia     I5 670         19:55        21:45  01 h 50 m  2,773   \n",
       "2    AirAsia    I5 2992         23:55         1:45  01 h 50 m  2,773   \n",
       "3     IndiGo    6E 5388         21:30        23:15  01 h 45 m  2,839   \n",
       "4  Akasa Air    QP 1103          0:45         2:20  01 h 35 m  3,005   \n",
       "\n",
       "  DepartingCity ArrivingCity  \n",
       "0        Mumbai        Delhi  \n",
       "1         Delhi    Bangalore  \n",
       "2     Bangalore      Kolkata  \n",
       "3       Chennai    Hyderabad  \n",
       "4     Hyderabad         Pune  "
      ]
     },
     "execution_count": 3,
     "metadata": {},
     "output_type": "execute_result"
    }
   ],
   "source": [
    "flights_df.head()\n"
   ]
  },
  {
   "cell_type": "code",
   "execution_count": 4,
   "metadata": {},
   "outputs": [
    {
     "data": {
      "text/plain": [
       "Index(['FlightName', 'FlightCode', 'DepartingTime', 'ArrivingTime', 'Duration',\n",
       "       'Price', 'DepartingCity', 'ArrivingCity'],\n",
       "      dtype='object')"
      ]
     },
     "execution_count": 4,
     "metadata": {},
     "output_type": "execute_result"
    }
   ],
   "source": [
    "flights_df.columns"
   ]
  },
  {
   "cell_type": "code",
   "execution_count": 5,
   "metadata": {},
   "outputs": [],
   "source": [
    "source=\"Mumbai\"\n",
    "destination=\"Bengaluru\""
   ]
  },
  {
   "cell_type": "code",
   "execution_count": 7,
   "metadata": {},
   "outputs": [],
   "source": [
    " results = flights_df[(flights_df[\"DepartingCity\"].str.lower() == source.lower()) & \n",
    "                         (flights_df[\"ArrivingCity\"].str.lower() == destination.lower())]"
   ]
  },
  {
   "cell_type": "code",
   "execution_count": 8,
   "metadata": {},
   "outputs": [
    {
     "name": "stdout",
     "output_type": "stream",
     "text": [
      "   FlightName FlightCode DepartingCity DepartingTime ArrivingCity  \\\n",
      "0   Air India     AI 621        Mumbai         03:55    Bengaluru   \n",
      "1     AirAsia     I5 670        Mumbai         19:55    Bengaluru   \n",
      "2     AirAsia    I5 2992        Mumbai         23:55    Bengaluru   \n",
      "3      IndiGo    6E 5388        Mumbai         21:30    Bengaluru   \n",
      "4   Akasa Air    QP 1103        Mumbai         00:45    Bengaluru   \n",
      "5   Akasa Air    QP 1103        Mumbai         00:45    Bengaluru   \n",
      "6   Akasa Air    QP 1103        Mumbai         00:45    Bengaluru   \n",
      "7   Akasa Air    QP 1341        Mumbai         20:00    Bengaluru   \n",
      "8   Akasa Air    QP 1341        Mumbai         20:00    Bengaluru   \n",
      "9   Akasa Air    QP 1139        Mumbai         18:05    Bengaluru   \n",
      "10     IndiGo    6E 6953        Mumbai         00:50    Bengaluru   \n",
      "11  Akasa Air    QP 1306        Mumbai         19:00    Bengaluru   \n",
      "12     IndiGo    6E 5352        Mumbai         06:10    Bengaluru   \n",
      "13     IndiGo    6E 5382        Mumbai         12:30    Bengaluru   \n",
      "14     IndiGo    6E 5382        Mumbai         12:30    Bengaluru   \n",
      "15  Air India     AI 607        Mumbai         16:40    Bengaluru   \n",
      "16     IndiGo    6E 5069        Mumbai         11:15    Bengaluru   \n",
      "17     IndiGo    6E 5069        Mumbai         11:15    Bengaluru   \n",
      "18    Vistara     UK 849        Mumbai         17:30    Bengaluru   \n",
      "19     IndiGo    6E 5125        Mumbai         23:15    Bengaluru   \n",
      "20     IndiGo    6E 5125        Mumbai         23:15    Bengaluru   \n",
      "21  Akasa Air    QP 1110        Mumbai         09:25    Bengaluru   \n",
      "22    Vistara     UK 845        Mumbai         05:55    Bengaluru   \n",
      "23     IndiGo    6E 6293        Mumbai         07:45    Bengaluru   \n",
      "24    Vistara     UK 853        Mumbai         16:00    Bengaluru   \n",
      "25  Akasa Air    QP 1625        Mumbai         13:35    Bengaluru   \n",
      "26  Akasa Air    QP 1625        Mumbai         13:35    Bengaluru   \n",
      "27     IndiGo    6E 5294        Mumbai         14:45    Bengaluru   \n",
      "28  Air India     AI 641        Mumbai         18:55    Bengaluru   \n",
      "29    Vistara     UK 865        Mumbai         18:55    Bengaluru   \n",
      "30     IndiGo    6E 5221        Mumbai         16:45    Bengaluru   \n",
      "31     IndiGo    6E 5067        Mumbai         18:05    Bengaluru   \n",
      "32     IndiGo    6E 5067        Mumbai         18:05    Bengaluru   \n",
      "33     IndiGo    6E 5256        Mumbai         20:35    Bengaluru   \n",
      "34    Vistara     UK 857        Mumbai         21:30    Bengaluru   \n",
      "35     IndiGo    6E 2244        Mumbai         19:30    Bengaluru   \n",
      "36  Air India     AI 603        Mumbai         06:45    Bengaluru   \n",
      "37    Vistara     UK 863        Mumbai         09:05    Bengaluru   \n",
      "38    Vistara     UK 863        Mumbai         09:05    Bengaluru   \n",
      "39     IndiGo    6E 5296        Mumbai         07:00    Bengaluru   \n",
      "40     IndiGo    6E 5211        Mumbai         08:30    Bengaluru   \n",
      "41     IndiGo    6E 5212        Mumbai         09:50    Bengaluru   \n",
      "42    Vistara     UK 851        Mumbai         07:00    Bengaluru   \n",
      "43  Air India     AI 639        Mumbai         09:20    Bengaluru   \n",
      "\n",
      "        ArrivingTime   Duration   Price  \n",
      "0              05:50  01 h 55 m   2,307  \n",
      "1              21:45  01 h 50 m   2,773  \n",
      "2   01:45\\r\\n+ 1 DAY  01 h 50 m   2,773  \n",
      "3              23:15  01 h 45 m   2,839  \n",
      "4              02:20  01 h 35 m   3,005  \n",
      "5              02:20  01 h 35 m   3,005  \n",
      "6              02:20  01 h 35 m   3,005  \n",
      "7              21:35  01 h 35 m   3,005  \n",
      "8              21:35  01 h 35 m   3,005  \n",
      "9              19:40  01 h 35 m   3,053  \n",
      "10             02:40  01 h 50 m   3,219  \n",
      "11             20:35  01 h 35 m   3,283  \n",
      "12             07:50  01 h 40 m   3,420  \n",
      "13             14:15  01 h 45 m   3,420  \n",
      "14             14:15  01 h 45 m   3,420  \n",
      "15             18:25  01 h 45 m   3,578  \n",
      "16             13:00  01 h 45 m   3,650  \n",
      "17             13:00  01 h 45 m   3,650  \n",
      "18             19:15  01 h 45 m   4,075  \n",
      "19  00:50\\r\\n+ 1 DAY  01 h 35 m   4,100  \n",
      "20  00:50\\r\\n+ 1 DAY  01 h 35 m   4,100  \n",
      "21             11:05  01 h 40 m   4,300  \n",
      "22             07:45  01 h 50 m   4,436  \n",
      "23             09:30  01 h 45 m   4,600  \n",
      "24             17:45  01 h 45 m   4,600  \n",
      "25             15:10  01 h 35 m   5,039  \n",
      "26             15:10  01 h 35 m   5,039  \n",
      "27             16:40  01 h 55 m   5,540  \n",
      "28             20:25  01 h 30 m   5,783  \n",
      "29             20:55       02 h   5,966  \n",
      "30             18:35  01 h 50 m   6,450  \n",
      "31             19:55  01 h 50 m   6,450  \n",
      "32             19:55  01 h 50 m   6,450  \n",
      "33             22:05  01 h 30 m   6,450  \n",
      "34             23:15  01 h 45 m   6,911  \n",
      "35             21:15  01 h 45 m   7,701  \n",
      "36             08:40  01 h 55 m   9,458  \n",
      "37             10:50  01 h 45 m  11,521  \n",
      "38             10:50  01 h 45 m  11,521  \n",
      "39             08:40  01 h 40 m  13,801  \n",
      "40             10:25  01 h 55 m  13,801  \n",
      "41             11:35  01 h 45 m  13,801  \n",
      "42             08:50  01 h 50 m  14,183  \n",
      "43             11:10  01 h 50 m  17,018  \n"
     ]
    }
   ],
   "source": [
    "print(results)"
   ]
  },
  {
   "cell_type": "code",
   "execution_count": 6,
   "metadata": {},
   "outputs": [
    {
     "name": "stderr",
     "output_type": "stream",
     "text": [
      "<>:1: SyntaxWarning: invalid escape sequence '\\F'\n",
      "<>:1: SyntaxWarning: invalid escape sequence '\\F'\n",
      "C:\\Users\\hetvi\\AppData\\Local\\Temp\\ipykernel_10504\\1939650531.py:1: SyntaxWarning: invalid escape sequence '\\F'\n",
      "  hotel_df=pd.read_csv(\"D:\\Flask_tutorial\\mytrip\\indian_hotel_bookings.csv\")\n"
     ]
    },
    {
     "data": {
      "text/html": [
       "<div>\n",
       "<style scoped>\n",
       "    .dataframe tbody tr th:only-of-type {\n",
       "        vertical-align: middle;\n",
       "    }\n",
       "\n",
       "    .dataframe tbody tr th {\n",
       "        vertical-align: top;\n",
       "    }\n",
       "\n",
       "    .dataframe thead th {\n",
       "        text-align: right;\n",
       "    }\n",
       "</style>\n",
       "<table border=\"1\" class=\"dataframe\">\n",
       "  <thead>\n",
       "    <tr style=\"text-align: right;\">\n",
       "      <th></th>\n",
       "      <th>Arriving City</th>\n",
       "      <th>Hotel Name</th>\n",
       "      <th>Rating</th>\n",
       "      <th>Price per Night (INR)</th>\n",
       "      <th>Hotel Type</th>\n",
       "    </tr>\n",
       "  </thead>\n",
       "  <tbody>\n",
       "    <tr>\n",
       "      <th>0</th>\n",
       "      <td>Delhi</td>\n",
       "      <td>Taj Palace</td>\n",
       "      <td>5.0</td>\n",
       "      <td>12000</td>\n",
       "      <td>Luxury</td>\n",
       "    </tr>\n",
       "    <tr>\n",
       "      <th>1</th>\n",
       "      <td>Mumbai</td>\n",
       "      <td>The Oberoi</td>\n",
       "      <td>4.9</td>\n",
       "      <td>10000</td>\n",
       "      <td>Luxury</td>\n",
       "    </tr>\n",
       "    <tr>\n",
       "      <th>2</th>\n",
       "      <td>Bangalore</td>\n",
       "      <td>The Leela Palace</td>\n",
       "      <td>4.8</td>\n",
       "      <td>9000</td>\n",
       "      <td>Business</td>\n",
       "    </tr>\n",
       "    <tr>\n",
       "      <th>3</th>\n",
       "      <td>Chennai</td>\n",
       "      <td>ITC Grand Chola</td>\n",
       "      <td>4.7</td>\n",
       "      <td>8500</td>\n",
       "      <td>Luxury</td>\n",
       "    </tr>\n",
       "    <tr>\n",
       "      <th>4</th>\n",
       "      <td>Hyderabad</td>\n",
       "      <td>Trident Hyderabad</td>\n",
       "      <td>4.6</td>\n",
       "      <td>7500</td>\n",
       "      <td>Business</td>\n",
       "    </tr>\n",
       "  </tbody>\n",
       "</table>\n",
       "</div>"
      ],
      "text/plain": [
       "  Arriving City         Hotel Name  Rating  Price per Night (INR) Hotel Type\n",
       "0         Delhi         Taj Palace     5.0                  12000     Luxury\n",
       "1        Mumbai         The Oberoi     4.9                  10000     Luxury\n",
       "2     Bangalore   The Leela Palace     4.8                   9000   Business\n",
       "3       Chennai    ITC Grand Chola     4.7                   8500     Luxury\n",
       "4     Hyderabad  Trident Hyderabad     4.6                   7500   Business"
      ]
     },
     "execution_count": 6,
     "metadata": {},
     "output_type": "execute_result"
    }
   ],
   "source": [
    "hotel_df=pd.read_csv(\"D:\\Flask_tutorial\\mytrip\\indian_hotel_bookings.csv\")\n",
    "hotel_df.head()"
   ]
  },
  {
   "cell_type": "code",
   "execution_count": 7,
   "metadata": {},
   "outputs": [
    {
     "data": {
      "text/plain": [
       "Index(['Arriving City', 'Hotel Name', 'Rating', 'Price per Night (INR)',\n",
       "       'Hotel Type'],\n",
       "      dtype='object')"
      ]
     },
     "execution_count": 7,
     "metadata": {},
     "output_type": "execute_result"
    }
   ],
   "source": [
    "hotel_df.columns\n"
   ]
  },
  {
   "cell_type": "markdown",
   "metadata": {},
   "source": [
    "#### The other datasets"
   ]
  },
  {
   "cell_type": "markdown",
   "metadata": {},
   "source": [
    "can suggest the recommendation based on the seat_class to the customer."
   ]
  },
  {
   "cell_type": "code",
   "execution_count": null,
   "metadata": {},
   "outputs": [],
   "source": []
  }
 ],
 "metadata": {
  "kernelspec": {
   "display_name": "Python 3",
   "language": "python",
   "name": "python3"
  },
  "language_info": {
   "codemirror_mode": {
    "name": "ipython",
    "version": 3
   },
   "file_extension": ".py",
   "mimetype": "text/x-python",
   "name": "python",
   "nbconvert_exporter": "python",
   "pygments_lexer": "ipython3",
   "version": "3.12.1"
  }
 },
 "nbformat": 4,
 "nbformat_minor": 2
}
